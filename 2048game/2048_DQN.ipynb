{
 "cells": [
  {
   "cell_type": "code",
   "execution_count": null,
   "metadata": {
    "collapsed": false
   },
   "outputs": [
    {
     "name": "stdout",
     "output_type": "stream",
     "text": [
      "fatal: destination path '2048-Gym' already exists and is not an empty directory.\r\n"
     ]
    }
   ],
   "source": [
    "!git clone --depth=1 https://github.com/FelipeMarcelino/2048-Gym.git # work/gym-env"
   ]
  },
  {
   "cell_type": "code",
   "execution_count": null,
   "metadata": {
    "collapsed": false
   },
   "outputs": [
    {
     "name": "stdout",
     "output_type": "stream",
     "text": [
      "parl                   1.3.1          \n",
      "paddlepaddle-gpu       1.8.0.post97   \n",
      "gym                    0.12.1         \n"
     ]
    }
   ],
   "source": [
    "!pip list |grep parl\r\n",
    "!pip list |grep paddlepaddle-gpu\r\n",
    "!pip list |grep gym"
   ]
  },
  {
   "cell_type": "code",
   "execution_count": null,
   "metadata": {
    "collapsed": false
   },
   "outputs": [
    {
     "name": "stdout",
     "output_type": "stream",
     "text": [
      "Uninstalling parl-1.3.1:\n",
      "  Successfully uninstalled parl-1.3.1\n",
      "\u001b[33mWARNING: Skipping pandas as it is not installed.\u001b[0m\n",
      "\u001b[33mWARNING: Skipping scikit-learn as it is not installed.\u001b[0m\n",
      "Looking in indexes: https://pypi.mirrors.ustc.edu.cn/simple/\n",
      "Collecting parl==1.3.1\n",
      "  Using cached https://mirrors.tuna.tsinghua.edu.cn/pypi/web/packages/62/79/590af38a920792c71afb73fad7583967928b4d0ba9fca76250d935c7fda8/parl-1.3.1-py2.py3-none-any.whl\n",
      "Requirement already satisfied: tensorboardX==1.8 in /opt/conda/envs/python35-paddle120-env/lib/python3.7/site-packages (from parl==1.3.1) (1.8)\n",
      "Requirement already satisfied: visualdl>=2.0.0b; python_version >= \"3\" and platform_system == \"Linux\" in /opt/conda/envs/python35-paddle120-env/lib/python3.7/site-packages (from parl==1.3.1) (2.0.0b4)\n",
      "Requirement already satisfied: termcolor>=1.1.0 in /opt/conda/envs/python35-paddle120-env/lib/python3.7/site-packages (from parl==1.3.1) (1.1.0)\n",
      "Requirement already satisfied: scipy>=1.0.0 in /opt/conda/envs/python35-paddle120-env/lib/python3.7/site-packages (from parl==1.3.1) (1.3.0)\n",
      "Requirement already satisfied: flask>=1.0.4 in /opt/conda/envs/python35-paddle120-env/lib/python3.7/site-packages (from parl==1.3.1) (1.1.1)\n",
      "Requirement already satisfied: psutil>=5.6.2 in /opt/conda/envs/python35-paddle120-env/lib/python3.7/site-packages (from parl==1.3.1) (5.7.0)\n",
      "Requirement already satisfied: flask-cors in /opt/conda/envs/python35-paddle120-env/lib/python3.7/site-packages (from parl==1.3.1) (3.0.8)\n",
      "Requirement already satisfied: pyarrow==0.13.0 in /opt/conda/envs/python35-paddle120-env/lib/python3.7/site-packages (from parl==1.3.1) (0.13.0)\n",
      "Requirement already satisfied: pyzmq==18.0.1 in /opt/conda/envs/python35-paddle120-env/lib/python3.7/site-packages (from parl==1.3.1) (18.0.1)\n",
      "Requirement already satisfied: click in /opt/conda/envs/python35-paddle120-env/lib/python3.7/site-packages (from parl==1.3.1) (7.0)\n",
      "Requirement already satisfied: cloudpickle==1.2.1 in /opt/conda/envs/python35-paddle120-env/lib/python3.7/site-packages (from parl==1.3.1) (1.2.1)\n",
      "Requirement already satisfied: tb-nightly==1.15.0a20190801 in /opt/conda/envs/python35-paddle120-env/lib/python3.7/site-packages (from parl==1.3.1) (1.15.0a20190801)\n",
      "Requirement already satisfied: numpy in /opt/conda/envs/python35-paddle120-env/lib/python3.7/site-packages (from tensorboardX==1.8->parl==1.3.1) (1.16.4)\n",
      "Requirement already satisfied: six in /opt/conda/envs/python35-paddle120-env/lib/python3.7/site-packages (from tensorboardX==1.8->parl==1.3.1) (1.15.0)\n",
      "Requirement already satisfied: protobuf>=3.2.0 in /opt/conda/envs/python35-paddle120-env/lib/python3.7/site-packages (from tensorboardX==1.8->parl==1.3.1) (3.10.0)\n",
      "Requirement already satisfied: pre-commit in /opt/conda/envs/python35-paddle120-env/lib/python3.7/site-packages (from visualdl>=2.0.0b; python_version >= \"3\" and platform_system == \"Linux\"->parl==1.3.1) (1.21.0)\n",
      "Requirement already satisfied: opencv-python in /opt/conda/envs/python35-paddle120-env/lib/python3.7/site-packages (from visualdl>=2.0.0b; python_version >= \"3\" and platform_system == \"Linux\"->parl==1.3.1) (4.1.1.26)\n",
      "Requirement already satisfied: Pillow>=7.0.0 in /opt/conda/envs/python35-paddle120-env/lib/python3.7/site-packages (from visualdl>=2.0.0b; python_version >= \"3\" and platform_system == \"Linux\"->parl==1.3.1) (7.1.2)\n",
      "Requirement already satisfied: Flask-Babel>=1.0.0 in /opt/conda/envs/python35-paddle120-env/lib/python3.7/site-packages (from visualdl>=2.0.0b; python_version >= \"3\" and platform_system == \"Linux\"->parl==1.3.1) (1.0.0)\n",
      "Requirement already satisfied: flake8>=3.7.9 in /opt/conda/envs/python35-paddle120-env/lib/python3.7/site-packages (from visualdl>=2.0.0b; python_version >= \"3\" and platform_system == \"Linux\"->parl==1.3.1) (3.8.2)\n",
      "Requirement already satisfied: requests in /opt/conda/envs/python35-paddle120-env/lib/python3.7/site-packages (from visualdl>=2.0.0b; python_version >= \"3\" and platform_system == \"Linux\"->parl==1.3.1) (2.22.0)\n",
      "Requirement already satisfied: Jinja2>=2.10.1 in /opt/conda/envs/python35-paddle120-env/lib/python3.7/site-packages (from flask>=1.0.4->parl==1.3.1) (2.10.1)\n",
      "Requirement already satisfied: itsdangerous>=0.24 in /opt/conda/envs/python35-paddle120-env/lib/python3.7/site-packages (from flask>=1.0.4->parl==1.3.1) (1.1.0)\n",
      "Requirement already satisfied: Werkzeug>=0.15 in /opt/conda/envs/python35-paddle120-env/lib/python3.7/site-packages (from flask>=1.0.4->parl==1.3.1) (0.16.0)\n",
      "Requirement already satisfied: wheel>=0.26; python_version >= \"3\" in /opt/conda/envs/python35-paddle120-env/lib/python3.7/site-packages (from tb-nightly==1.15.0a20190801->parl==1.3.1) (0.33.6)\n",
      "Requirement already satisfied: markdown>=2.6.8 in /opt/conda/envs/python35-paddle120-env/lib/python3.7/site-packages (from tb-nightly==1.15.0a20190801->parl==1.3.1) (3.1.1)\n",
      "Requirement already satisfied: grpcio>=1.6.3 in /opt/conda/envs/python35-paddle120-env/lib/python3.7/site-packages (from tb-nightly==1.15.0a20190801->parl==1.3.1) (1.26.0)\n",
      "Requirement already satisfied: setuptools>=41.0.0 in /opt/conda/envs/python35-paddle120-env/lib/python3.7/site-packages (from tb-nightly==1.15.0a20190801->parl==1.3.1) (41.4.0)\n",
      "Requirement already satisfied: absl-py>=0.4 in /opt/conda/envs/python35-paddle120-env/lib/python3.7/site-packages (from tb-nightly==1.15.0a20190801->parl==1.3.1) (0.8.1)\n",
      "Requirement already satisfied: importlib-metadata; python_version < \"3.8\" in /opt/conda/envs/python35-paddle120-env/lib/python3.7/site-packages (from pre-commit->visualdl>=2.0.0b; python_version >= \"3\" and platform_system == \"Linux\"->parl==1.3.1) (0.23)\n",
      "Requirement already satisfied: virtualenv>=15.2 in /opt/conda/envs/python35-paddle120-env/lib/python3.7/site-packages (from pre-commit->visualdl>=2.0.0b; python_version >= \"3\" and platform_system == \"Linux\"->parl==1.3.1) (16.7.9)\n",
      "Requirement already satisfied: toml in /opt/conda/envs/python35-paddle120-env/lib/python3.7/site-packages (from pre-commit->visualdl>=2.0.0b; python_version >= \"3\" and platform_system == \"Linux\"->parl==1.3.1) (0.10.0)\n",
      "Requirement already satisfied: aspy.yaml in /opt/conda/envs/python35-paddle120-env/lib/python3.7/site-packages (from pre-commit->visualdl>=2.0.0b; python_version >= \"3\" and platform_system == \"Linux\"->parl==1.3.1) (1.3.0)\n",
      "Requirement already satisfied: nodeenv>=0.11.1 in /opt/conda/envs/python35-paddle120-env/lib/python3.7/site-packages (from pre-commit->visualdl>=2.0.0b; python_version >= \"3\" and platform_system == \"Linux\"->parl==1.3.1) (1.3.4)\n",
      "Requirement already satisfied: identify>=1.0.0 in /opt/conda/envs/python35-paddle120-env/lib/python3.7/site-packages (from pre-commit->visualdl>=2.0.0b; python_version >= \"3\" and platform_system == \"Linux\"->parl==1.3.1) (1.4.10)\n",
      "Requirement already satisfied: cfgv>=2.0.0 in /opt/conda/envs/python35-paddle120-env/lib/python3.7/site-packages (from pre-commit->visualdl>=2.0.0b; python_version >= \"3\" and platform_system == \"Linux\"->parl==1.3.1) (2.0.1)\n",
      "Requirement already satisfied: pyyaml in /opt/conda/envs/python35-paddle120-env/lib/python3.7/site-packages (from pre-commit->visualdl>=2.0.0b; python_version >= \"3\" and platform_system == \"Linux\"->parl==1.3.1) (5.1.2)\n",
      "Requirement already satisfied: Babel>=2.3 in /opt/conda/envs/python35-paddle120-env/lib/python3.7/site-packages (from Flask-Babel>=1.0.0->visualdl>=2.0.0b; python_version >= \"3\" and platform_system == \"Linux\"->parl==1.3.1) (2.8.0)\n",
      "Requirement already satisfied: pytz in /opt/conda/envs/python35-paddle120-env/lib/python3.7/site-packages (from Flask-Babel>=1.0.0->visualdl>=2.0.0b; python_version >= \"3\" and platform_system == \"Linux\"->parl==1.3.1) (2019.3)\n",
      "Requirement already satisfied: mccabe<0.7.0,>=0.6.0 in /opt/conda/envs/python35-paddle120-env/lib/python3.7/site-packages (from flake8>=3.7.9->visualdl>=2.0.0b; python_version >= \"3\" and platform_system == \"Linux\"->parl==1.3.1) (0.6.1)\n",
      "Requirement already satisfied: pycodestyle<2.7.0,>=2.6.0a1 in /opt/conda/envs/python35-paddle120-env/lib/python3.7/site-packages (from flake8>=3.7.9->visualdl>=2.0.0b; python_version >= \"3\" and platform_system == \"Linux\"->parl==1.3.1) (2.6.0)\n",
      "Requirement already satisfied: pyflakes<2.3.0,>=2.2.0 in /opt/conda/envs/python35-paddle120-env/lib/python3.7/site-packages (from flake8>=3.7.9->visualdl>=2.0.0b; python_version >= \"3\" and platform_system == \"Linux\"->parl==1.3.1) (2.2.0)\n",
      "Requirement already satisfied: chardet<3.1.0,>=3.0.2 in /opt/conda/envs/python35-paddle120-env/lib/python3.7/site-packages (from requests->visualdl>=2.0.0b; python_version >= \"3\" and platform_system == \"Linux\"->parl==1.3.1) (3.0.4)\n",
      "Requirement already satisfied: certifi>=2017.4.17 in /opt/conda/envs/python35-paddle120-env/lib/python3.7/site-packages (from requests->visualdl>=2.0.0b; python_version >= \"3\" and platform_system == \"Linux\"->parl==1.3.1) (2019.9.11)\n",
      "Requirement already satisfied: urllib3!=1.25.0,!=1.25.1,<1.26,>=1.21.1 in /opt/conda/envs/python35-paddle120-env/lib/python3.7/site-packages (from requests->visualdl>=2.0.0b; python_version >= \"3\" and platform_system == \"Linux\"->parl==1.3.1) (1.25.6)\n",
      "Requirement already satisfied: idna<2.9,>=2.5 in /opt/conda/envs/python35-paddle120-env/lib/python3.7/site-packages (from requests->visualdl>=2.0.0b; python_version >= \"3\" and platform_system == \"Linux\"->parl==1.3.1) (2.8)\n",
      "Requirement already satisfied: MarkupSafe>=0.23 in /opt/conda/envs/python35-paddle120-env/lib/python3.7/site-packages (from Jinja2>=2.10.1->flask>=1.0.4->parl==1.3.1) (1.1.1)\n",
      "Requirement already satisfied: zipp>=0.5 in /opt/conda/envs/python35-paddle120-env/lib/python3.7/site-packages (from importlib-metadata; python_version < \"3.8\"->pre-commit->visualdl>=2.0.0b; python_version >= \"3\" and platform_system == \"Linux\"->parl==1.3.1) (0.6.0)\n",
      "Requirement already satisfied: more-itertools in /opt/conda/envs/python35-paddle120-env/lib/python3.7/site-packages (from zipp>=0.5->importlib-metadata; python_version < \"3.8\"->pre-commit->visualdl>=2.0.0b; python_version >= \"3\" and platform_system == \"Linux\"->parl==1.3.1) (7.2.0)\n",
      "Installing collected packages: parl\n",
      "Successfully installed parl-1.3.1\n",
      "Looking in indexes: https://pypi.mirrors.ustc.edu.cn/simple/\n",
      "Requirement already satisfied: gym in /opt/conda/envs/python35-paddle120-env/lib/python3.7/site-packages (0.12.1)\n",
      "Requirement already satisfied: six in /opt/conda/envs/python35-paddle120-env/lib/python3.7/site-packages (from gym) (1.15.0)\n",
      "Requirement already satisfied: requests>=2.0 in /opt/conda/envs/python35-paddle120-env/lib/python3.7/site-packages (from gym) (2.22.0)\n",
      "Requirement already satisfied: pyglet>=1.2.0 in /opt/conda/envs/python35-paddle120-env/lib/python3.7/site-packages (from gym) (1.4.5)\n",
      "Requirement already satisfied: scipy in /opt/conda/envs/python35-paddle120-env/lib/python3.7/site-packages (from gym) (1.3.0)\n",
      "Requirement already satisfied: numpy>=1.10.4 in /opt/conda/envs/python35-paddle120-env/lib/python3.7/site-packages (from gym) (1.16.4)\n",
      "Requirement already satisfied: idna<2.9,>=2.5 in /opt/conda/envs/python35-paddle120-env/lib/python3.7/site-packages (from requests>=2.0->gym) (2.8)\n",
      "Requirement already satisfied: chardet<3.1.0,>=3.0.2 in /opt/conda/envs/python35-paddle120-env/lib/python3.7/site-packages (from requests>=2.0->gym) (3.0.4)\n",
      "Requirement already satisfied: certifi>=2017.4.17 in /opt/conda/envs/python35-paddle120-env/lib/python3.7/site-packages (from requests>=2.0->gym) (2019.9.11)\n",
      "Requirement already satisfied: urllib3!=1.25.0,!=1.25.1,<1.26,>=1.21.1 in /opt/conda/envs/python35-paddle120-env/lib/python3.7/site-packages (from requests>=2.0->gym) (1.25.6)\n",
      "Requirement already satisfied: future in /opt/conda/envs/python35-paddle120-env/lib/python3.7/site-packages (from pyglet>=1.2.0->gym) (0.18.0)\n"
     ]
    }
   ],
   "source": [
    "!pip uninstall -y parl  \r\n",
    "!pip uninstall -y pandas scikit-learn \r\n",
    "!pip install parl==1.3.1\r\n",
    "!pip install gym"
   ]
  },
  {
   "cell_type": "code",
   "execution_count": null,
   "metadata": {
    "collapsed": false
   },
   "outputs": [],
   "source": [
    "#!cd 2048-Gym/gym-game2048 终端运行创建环境\r\n",
    "#!pip install -e . \r\n",
    "import sys\r\n",
    "sys.path.append('/home/aistudio/2048-Gym/gym-game2048')"
   ]
  },
  {
   "cell_type": "code",
   "execution_count": null,
   "metadata": {
    "collapsed": false
   },
   "outputs": [],
   "source": [
    "import parl\r\n",
    "from parl import layers\r\n",
    "import paddle.fluid as fluid\r\n",
    "import copy\r\n",
    "import numpy as np\r\n",
    "import os\r\n",
    "import gym\r\n",
    "import gym_game2048\r\n",
    "from parl.utils import logger\r\n",
    "import collections"
   ]
  },
  {
   "cell_type": "code",
   "execution_count": null,
   "metadata": {
    "collapsed": false
   },
   "outputs": [],
   "source": [
    "LEARN_FREQ = 5 # 训练频率，不需要每一个step都learn，攒一些新增经验后再learn，提高效率\r\n",
    "MEMORY_SIZE = 2e4    # replay memory的大小，越大越占用内存\r\n",
    "MEMORY_WARMUP_SIZE = 200  # replay_memory 里需要预存一些经验数据，再从里面sample一个batch的经验让agent去learn\r\n",
    "BATCH_SIZE = 32   # 每次给agent learn的数据数量，从replay memory随机里sample一批数据出来\r\n",
    "GAMMA = 0.99 # reward 的衰减因子，一般取 0.9 到 0.999 不等\r\n",
    "LEARNING_RATE = 0.001 # 学习率\r\n",
    "MAX_EPISODE = 2000"
   ]
  },
  {
   "cell_type": "code",
   "execution_count": null,
   "metadata": {
    "collapsed": false
   },
   "outputs": [],
   "source": [
    "class Model(parl.Model):\r\n",
    "    def __init__(self, act_dim):\r\n",
    "        self.cnn1 = layers.conv2d(num_filters=256, filter_size=2, padding=\"SAME\", stride=1,act=\"leaky_relu\")\r\n",
    "        self.cnn2 = layers.conv2d(num_filters=256, filter_size=2, padding=\"SAME\", stride=1,act=\"leaky_relu\")\r\n",
    "        self.cnn3 = layers.conv2d(num_filters=256, filter_size=2, padding=\"SAME\", stride=1,act=\"leaky_relu\")\r\n",
    "        self.cnn4 = layers.conv2d(num_filters=256, filter_size=2, padding=\"SAME\", stride=1,act=\"leaky_relu\")\r\n",
    "        self.fc1 = layers.fc(size=act_dim, act=\"leaky_relu\")\r\n",
    "    def value(self, obs):\r\n",
    "        # 定义网络\r\n",
    "        # 输入state，输出所有action对应的Q，[Q(s,a1), Q(s,a2), Q(s,a3)...]\r\n",
    "        h1 = self.cnn1(obs)\r\n",
    "        h2 = self.cnn2(h1)\r\n",
    "        h3 = self.cnn3(h2)\r\n",
    "        h4 = self.cnn4(h3)\r\n",
    "        Q = self.fc1(h4)\r\n",
    "        return Q"
   ]
  },
  {
   "cell_type": "code",
   "execution_count": null,
   "metadata": {
    "collapsed": false
   },
   "outputs": [],
   "source": [
    "from parl.algorithms import DQN"
   ]
  },
  {
   "cell_type": "code",
   "execution_count": null,
   "metadata": {
    "collapsed": false
   },
   "outputs": [],
   "source": [
    "class Agent(parl.Agent):\r\n",
    "    def __init__(self,\r\n",
    "                 algorithm,\r\n",
    "                 obs_dim,\r\n",
    "                 act_dim,\r\n",
    "                 e_greed=0.1,\r\n",
    "                 e_greed_decrement=0):\r\n",
    "        assert isinstance(act_dim, int)\r\n",
    "        self.obs_dim = obs_dim\r\n",
    "        self.act_dim = act_dim\r\n",
    "        super(Agent, self).__init__(algorithm)\r\n",
    "\r\n",
    "        self.global_step = 0\r\n",
    "        self.update_target_steps = 200  # 每隔200个training steps再把model的参数复制到target_model中\r\n",
    "\r\n",
    "        self.e_greed = e_greed  # 有一定概率随机选取动作，探索\r\n",
    "        self.e_greed_decrement = e_greed_decrement  # 随着训练逐步收敛，探索的程度慢慢降低\r\n",
    "\r\n",
    "    def build_program(self):\r\n",
    "        self.pred_program = fluid.Program()\r\n",
    "        self.learn_program = fluid.Program()\r\n",
    "\r\n",
    "        with fluid.program_guard(self.pred_program):  # 搭建计算图用于 预测动作，定义输入输出变量\r\n",
    "            obs = layers.data(\r\n",
    "                name='obs', shape=self.obs_dim, dtype='float32')\r\n",
    "            self.value = self.alg.predict(obs)\r\n",
    "\r\n",
    "        with fluid.program_guard(self.learn_program):  # 搭建计算图用于 更新Q网络，定义输入输出变量\r\n",
    "            obs = layers.data(\r\n",
    "                name='obs', shape=self.obs_dim, dtype='float32')\r\n",
    "            action = layers.data(name='act', shape=[1], dtype='int32')\r\n",
    "            reward = layers.data(name='reward', shape=[], dtype='float32')\r\n",
    "            next_obs = layers.data(\r\n",
    "                name='next_obs', shape=self.obs_dim, dtype='float32')\r\n",
    "            terminal = layers.data(name='terminal', shape=[], dtype='bool')\r\n",
    "            self.cost = self.alg.learn(obs, action, reward, next_obs, terminal)\r\n",
    "\r\n",
    "    def sample(self, obs):\r\n",
    "        sample = np.random.rand()  # 产生0~1之间的小数\r\n",
    "        if sample < self.e_greed:\r\n",
    "            act = np.random.randint(self.act_dim)  # 探索：每个动作都有概率被选择\r\n",
    "        else:\r\n",
    "            act = self.predict(obs)  # 选择最优动作\r\n",
    "        self.e_greed = max(0.01, self.e_greed - self.e_greed_decrement)  # 随着训练逐步收敛，探索的程度慢慢降低\r\n",
    "        return act\r\n",
    "\r\n",
    "    def predict(self, obs):  # 选择最优动作\r\n",
    "        obs = np.expand_dims(obs, axis=0)\r\n",
    "        pred_Q = self.fluid_executor.run(\r\n",
    "            self.pred_program,\r\n",
    "            feed={'obs': obs.astype('float32')},\r\n",
    "            fetch_list=[self.value])[0]\r\n",
    "        pred_Q = np.squeeze(pred_Q, axis=0)\r\n",
    "        act = np.argmax(pred_Q)  # 选择Q最大的下标，即对应的动作\r\n",
    "        return act\r\n",
    "\r\n",
    "    def learn(self, obs, act, reward, next_obs, terminal):\r\n",
    "        # 每隔200个training steps同步一次model和target_model的参数\r\n",
    "        if self.global_step % self.update_target_steps == 0:\r\n",
    "            self.alg.sync_target()\r\n",
    "        self.global_step += 1\r\n",
    "\r\n",
    "        act = np.expand_dims(act, -1)\r\n",
    "        feed = {\r\n",
    "            'obs': obs.astype('float32'),\r\n",
    "            'act': act.astype('int32'),\r\n",
    "            'reward': reward,\r\n",
    "            'next_obs': next_obs.astype('float32'),\r\n",
    "            'terminal': terminal\r\n",
    "        }\r\n",
    "        cost = self.fluid_executor.run(\r\n",
    "            self.learn_program, feed=feed, fetch_list=[self.cost])[0]  # 训练一次网络\r\n",
    "        return cost"
   ]
  },
  {
   "cell_type": "code",
   "execution_count": null,
   "metadata": {
    "collapsed": false
   },
   "outputs": [],
   "source": [
    "import random\r\n",
    "class ReplayMemory(object):\r\n",
    "    def __init__(self, max_size):\r\n",
    "        self.buffer = collections.deque(maxlen=max_size)\r\n",
    "\r\n",
    "    # 增加一条经验到经验池中\r\n",
    "    def append(self, exp):\r\n",
    "        self.buffer.append(exp)\r\n",
    "\r\n",
    "    # 从经验池中选取N条经验出来\r\n",
    "    def sample(self, batch_size):\r\n",
    "        mini_batch = random.sample(self.buffer, batch_size)\r\n",
    "        obs_batch, action_batch, reward_batch, next_obs_batch, done_batch = [], [], [], [], []\r\n",
    "\r\n",
    "        for experience in mini_batch:\r\n",
    "            s, a, r, s_p, done = experience\r\n",
    "            obs_batch.append(s)\r\n",
    "            action_batch.append(a)\r\n",
    "            reward_batch.append(r)\r\n",
    "            next_obs_batch.append(s_p)\r\n",
    "            done_batch.append(done)\r\n",
    "\r\n",
    "        return np.array(obs_batch).astype('float32'), \\\r\n",
    "            np.array(action_batch).astype('float32'), np.array(reward_batch).astype('float32'),\\\r\n",
    "            np.array(next_obs_batch).astype('float32'), np.array(done_batch).astype('float32')\r\n",
    "\r\n",
    "    def __len__(self):\r\n",
    "        return len(self.buffer)"
   ]
  },
  {
   "cell_type": "code",
   "execution_count": 30,
   "metadata": {
    "collapsed": false
   },
   "outputs": [],
   "source": [
    "# 训练一个episode\r\n",
    "def run_episode(env, agent, rpm):\r\n",
    "    total_reward = 0\r\n",
    "    obs = env.reset()\r\n",
    "    obs = obs.swapaxes(0, 2).swapaxes(1, 2)\r\n",
    "    step = 0\r\n",
    "    while True:\r\n",
    "        step += 1\r\n",
    "        action = agent.sample(obs)  # 采样动作，所有动作都有概率被尝试到\r\n",
    "        next_obs, reward, done, _ = env.step(action)\r\n",
    "        next_obs = next_obs.swapaxes(0, 2).swapaxes(1, 2)\r\n",
    "        rpm.append((obs, action, reward, next_obs, done))\r\n",
    "\r\n",
    "        # train model\r\n",
    "        if (len(rpm) > MEMORY_WARMUP_SIZE) and (step % LEARN_FREQ == 0):\r\n",
    "            (batch_obs, batch_action, batch_reward, batch_next_obs,\r\n",
    "             batch_done) = rpm.sample(BATCH_SIZE)\r\n",
    "            train_loss = agent.learn(batch_obs, batch_action, batch_reward,\r\n",
    "                                     batch_next_obs,\r\n",
    "                                     batch_done)  # s,a,r,s',done\r\n",
    "\r\n",
    "        total_reward += reward\r\n",
    "        obs = next_obs\r\n",
    "        if done:\r\n",
    "            break\r\n",
    "    return total_reward\r\n",
    "\r\n",
    "\r\n",
    "# 评估 agent, 跑 5 个episode，总reward求平均\r\n",
    "def evaluate(env, agent, render=False):\r\n",
    "    eval_reward = []\r\n",
    "    #for i in range(5):\r\n",
    "    obs = env.reset()\r\n",
    "    episode_reward = 0\r\n",
    "    while True:\r\n",
    "        obs = obs.swapaxes(0, 2).swapaxes(1, 2)\r\n",
    "        action = agent.predict(obs)  # 预测动作，只选最优动作\r\n",
    "        obs, reward, done, _ = env.step(action)\r\n",
    "        episode_reward += reward\r\n",
    "        if render:\r\n",
    "            env.render()\r\n",
    "        if done:\r\n",
    "            max_score = env.get_board().max()\r\n",
    "            break\r\n",
    "    #eval_reward.append(episode_reward)\r\n",
    "    #return np.mean(episode_reward)\r\n",
    "    return episode_reward,max_score"
   ]
  },
  {
   "cell_type": "code",
   "execution_count": 31,
   "metadata": {
    "collapsed": false
   },
   "outputs": [],
   "source": [
    "def create_env(board_size, seed, binary):\r\n",
    "    env = gym.make(\"game2048-v0\", board_size=board_size, seed=seed, binary=binary, extractor=\"cnn\", penalty=-10)\r\n",
    "    return env"
   ]
  },
  {
   "cell_type": "code",
   "execution_count": 32,
   "metadata": {
    "collapsed": false
   },
   "outputs": [
    {
     "name": "stdout",
     "output_type": "stream",
     "text": [
      "\u001b[32m[06-30 10:53:02 MainThread @<ipython-input-32-624029cd3a9f>:6]\u001b[0m act_dim:4,obs_dim:16\n"
     ]
    }
   ],
   "source": [
    "# 创建环境\r\n",
    "ACTION_LIST = [\"↑\", \"↓\", \"→\", \"←\"]\r\n",
    "env = create_env(4,None,True)\r\n",
    "act_dim = len(ACTION_LIST)  # 2048:4个动作(0:上, 1:下, 2:右, 3:左)\r\n",
    "obs_dim = [16, 4, 4] \r\n",
    "logger.info('act_dim:{},obs_dim:{}'.format(act_dim,obs_dim[0]))\r\n",
    "# 根据parl框架构建agent\r\n",
    "model = Model(act_dim=act_dim)\r\n",
    "algorithm = DQN(model, act_dim=act_dim, gamma=GAMMA, lr=LEARNING_RATE)\r\n",
    "# 创建经验池\r\n",
    "rpm = ReplayMemory(int(MEMORY_SIZE)) # DQN的经验回放池"
   ]
  },
  {
   "cell_type": "code",
   "execution_count": 29,
   "metadata": {
    "collapsed": false
   },
   "outputs": [
    {
     "name": "stdout",
     "output_type": "stream",
     "text": [
      "\u001b[32m[06-30 10:53:04 MainThread @machine_info.py:86]\u001b[0m nvidia-smi -L found gpu count: 1\n",
      "\u001b[32m[06-30 10:53:05 MainThread @machine_info.py:86]\u001b[0m nvidia-smi -L found gpu count: 1\n",
      "\u001b[32m[06-30 10:53:06 MainThread @machine_info.py:86]\u001b[0m nvidia-smi -L found gpu count: 1\n",
      "\u001b[32m[06-30 10:53:20 MainThread @<ipython-input-33-20ec996bda02>:31]\u001b[0m episode:50    max_score:16   test_reward:-168\n"
     ]
    }
   ],
   "source": [
    "agent = Agent(\r\n",
    "    algorithm,\r\n",
    "    obs_dim=obs_dim,\r\n",
    "    act_dim=act_dim,\r\n",
    "    e_greed=0.1, \r\n",
    "    e_greed_decrement=1e-6) \r\n",
    "\r\n",
    "\r\n",
    "\r\n",
    "# 加载模型\r\n",
    "# save_path = './dqn_model.ckpt'\r\n",
    "# agent.restore(save_path)\r\n",
    "\r\n",
    "# 先往经验池里存一些数据，避免最开始训练的时候样本丰富度不够\r\n",
    "while len(rpm) < MEMORY_WARMUP_SIZE:\r\n",
    "    run_episode(env, agent, rpm)\r\n",
    "\r\n",
    "# 开始训练\r\n",
    "episode = 0\r\n",
    "while episode < MAX_EPISODE:  # 训练max_episode个回合，test部分不计算入episode数量\r\n",
    "    # train part\r\n",
    "    for i in range(0, 50):\r\n",
    "        total_reward = run_episode(env, agent, rpm)\r\n",
    "        episode += 1\r\n",
    "    # 训练结束，保存模型\r\n",
    "    save_path = './work/dqn_model/dqn_model_{}.ckpt'.format(episode)\r\n",
    "    agent.save(save_path)\r\n",
    "    # test part\r\n",
    "    eval_reward,max_score = evaluate(env, agent, render=False)  # render=True 查看显示效果\r\n",
    "    logger.info('episode:{}    max_score:{}   test_reward:{}'.format(\r\n",
    "        episode, max_score, eval_reward))"
   ]
  }
 ],
 "metadata": {
  "kernelspec": {
   "display_name": "PaddlePaddle 1.8.0 (Python 3.5)",
   "language": "python",
   "name": "py35-paddle1.2.0"
  },
  "language_info": {
   "codemirror_mode": {
    "name": "ipython",
    "version": 3
   },
   "file_extension": ".py",
   "mimetype": "text/x-python",
   "name": "python",
   "nbconvert_exporter": "python",
   "pygments_lexer": "ipython3",
   "version": "3.7.4"
  }
 },
 "nbformat": 4,
 "nbformat_minor": 1
}
